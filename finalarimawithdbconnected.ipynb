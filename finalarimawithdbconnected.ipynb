{
 "cells": [
  {
   "cell_type": "code",
   "execution_count": 1,
   "id": "bc5c3fa8",
   "metadata": {},
   "outputs": [],
   "source": [
    "\n",
    "import pandas as pd\n",
    "import numpy as np\n",
    "import matplotlib.pyplot as plt\n",
    "get_ipython().run_line_magic('matplotlib', 'inline')\n",
    "import warnings\n",
    "warnings.filterwarnings('ignore')\n",
    "import seaborn as sns\n",
    "from pmdarima.arima import auto_arima\n",
    "from statsmodels.tsa.stattools import adfuller\n",
    "from statsmodels.tsa.arima_model import ARIMA"
   ]
  },
  {
   "cell_type": "code",
   "execution_count": 3,
   "id": "1499957b",
   "metadata": {},
   "outputs": [],
   "source": [
    "import firebase_admin\n",
    "from firebase_admin import credentials\n",
    "from firebase_admin import firestore\n",
    "\n",
    "# Use a service account.\n",
    "cred = credentials.Certificate('menstrualperiodtracker-firebase-adminsdk-7j4c9-26fa2ae7ce.json')\n",
    "\n",
    "app = firebase_admin.initialize_app(cred)\n",
    "\n",
    "db = firestore.client()"
   ]
  },
  {
   "cell_type": "code",
   "execution_count": 4,
   "id": "538ce833",
   "metadata": {},
   "outputs": [
    {
     "name": "stdout",
     "output_type": "stream",
     "text": [
      "[28, 29, 28, 30, 27, 30, 29, 30, 28, 30, 28, 27, 31, 31, 29, 28, 28, 28, 29, 28, 29, 30, 31, 30, 29, 29, 29, 27, 29, 28, 28, 27, 29, 29, 30, 28, 27, 30, 29, 29, 28, 29, 29]\n"
     ]
    }
   ],
   "source": [
    "users_ref = db.collection(u'main data')\n",
    "docs = users_ref.stream()\n",
    "\n",
    "\n",
    "\n",
    "field_name = 'cyclelength'\n",
    "field_list = []\n",
    "\n",
    "for doc in docs:\n",
    "    doc_dict = doc.to_dict()\n",
    "    field_value = doc_dict.get(field_name)\n",
    "    if field_value is not None:\n",
    "        field_list.append(field_value)\n",
    "\n",
    "print(field_list)\n",
    "   "
   ]
  },
  {
   "cell_type": "code",
   "execution_count": 5,
   "id": "833c232a",
   "metadata": {},
   "outputs": [],
   "source": [
    "df=pd.DataFrame(field_list)"
   ]
  },
  {
   "cell_type": "code",
   "execution_count": 7,
   "id": "840d4cd0",
   "metadata": {},
   "outputs": [
    {
     "name": "stdout",
     "output_type": "stream",
     "text": [
      "The data is stationary with p-value 0.00024192779218585269\n"
     ]
    }
   ],
   "source": [
    "import numpy as np\n",
    "from statsmodels.tsa.stattools import adfuller\n",
    "\n",
    "def check_stationarity(data):\n",
    "    result = adfuller(data)\n",
    "    pvalue = result[1]\n",
    "    if pvalue < 0.05:\n",
    "        print(\"The data is stationary with p-value\", pvalue)\n",
    "    else:\n",
    "        print(\"The data is not stationary with p-value\", pvalue)\n",
    "    \n",
    "    return pvalue\n",
    "\n",
    "# check for stationarity in the data\n",
    "pvalue = check_stationarity(df)\n",
    "\n",
    "# apply differencing to make the data stationary if necessary\n",
    "if pvalue >= 0.05:\n",
    "    differenced_data = df.diff().dropna()\n",
    "    check_stationarity(differenced_data)\n",
    "else:\n",
    "    differenced_data = df\n",
    "\n",
    "\n"
   ]
  },
  {
   "cell_type": "code",
   "execution_count": 8,
   "id": "da191825",
   "metadata": {},
   "outputs": [],
   "source": [
    "# spilting the dataset\n",
    "from sklearn.model_selection import train_test_split\n",
    "\n",
    "X = differenced_data # dataset\n",
    "\n",
    "train_size = 0.75\n",
    "test_size = 1 - train_size\n",
    "X_train, X_test = train_test_split(X, train_size=train_size, test_size=test_size, shuffle=False)\n"
   ]
  },
  {
   "cell_type": "code",
   "execution_count": 9,
   "id": "1a550b08",
   "metadata": {},
   "outputs": [
    {
     "name": "stdout",
     "output_type": "stream",
     "text": [
      "Performing stepwise search to minimize aic\n",
      " ARIMA(0,0,0)(0,1,0)[4] intercept   : AIC=110.168, Time=0.01 sec\n",
      " ARIMA(1,0,0)(1,1,0)[4] intercept   : AIC=106.535, Time=0.02 sec\n",
      " ARIMA(0,0,1)(0,1,1)[4] intercept   : AIC=103.842, Time=0.02 sec\n",
      " ARIMA(0,0,0)(0,1,0)[4]             : AIC=108.292, Time=0.01 sec\n",
      " ARIMA(0,0,1)(0,1,0)[4] intercept   : AIC=108.789, Time=0.01 sec\n",
      " ARIMA(0,0,1)(1,1,1)[4] intercept   : AIC=105.788, Time=0.03 sec\n",
      " ARIMA(0,0,1)(0,1,2)[4] intercept   : AIC=105.775, Time=0.04 sec\n",
      " ARIMA(0,0,1)(1,1,0)[4] intercept   : AIC=106.441, Time=0.02 sec\n",
      " ARIMA(0,0,1)(1,1,2)[4] intercept   : AIC=107.764, Time=0.09 sec\n",
      " ARIMA(0,0,0)(0,1,1)[4] intercept   : AIC=102.240, Time=0.03 sec\n",
      " ARIMA(0,0,0)(1,1,1)[4] intercept   : AIC=104.212, Time=0.04 sec\n",
      " ARIMA(0,0,0)(0,1,2)[4] intercept   : AIC=104.205, Time=0.04 sec\n",
      " ARIMA(0,0,0)(1,1,0)[4] intercept   : AIC=105.990, Time=0.02 sec\n",
      " ARIMA(0,0,0)(1,1,2)[4] intercept   : AIC=106.193, Time=0.08 sec\n",
      " ARIMA(1,0,0)(0,1,1)[4] intercept   : AIC=103.741, Time=0.03 sec\n",
      " ARIMA(1,0,1)(0,1,1)[4] intercept   : AIC=105.694, Time=0.05 sec\n",
      " ARIMA(0,0,0)(0,1,1)[4]             : AIC=100.492, Time=0.01 sec\n",
      " ARIMA(0,0,0)(1,1,1)[4]             : AIC=102.475, Time=0.02 sec\n",
      " ARIMA(0,0,0)(0,1,2)[4]             : AIC=102.468, Time=0.03 sec\n",
      " ARIMA(0,0,0)(1,1,0)[4]             : AIC=104.275, Time=0.01 sec\n",
      " ARIMA(0,0,0)(1,1,2)[4]             : AIC=104.444, Time=0.06 sec\n",
      " ARIMA(1,0,0)(0,1,1)[4]             : AIC=101.933, Time=0.02 sec\n",
      " ARIMA(0,0,1)(0,1,1)[4]             : AIC=102.047, Time=0.02 sec\n",
      " ARIMA(1,0,1)(0,1,1)[4]             : AIC=103.883, Time=0.03 sec\n",
      "\n",
      "Best model:  ARIMA(0,0,0)(0,1,1)[4]          \n",
      "Total fit time: 0.750 seconds\n"
     ]
    }
   ],
   "source": [
    "arima_model =  auto_arima(X_train,start_p=0, d=0, start_q=0, \n",
    "                          max_p=5, max_d=0, max_q=5, start_P=0, \n",
    "                          D=1, start_Q=0, max_P=5, max_D=5,\n",
    "                          max_Q=5, m=4, seasonal=True, \n",
    "                          error_action='warn',trace = True,\n",
    "                          supress_warnings=True,stepwise = True,\n",
    "                          random_state=20,n_fits = 50 )"
   ]
  },
  {
   "cell_type": "code",
   "execution_count": 10,
   "id": "b6d679e2",
   "metadata": {},
   "outputs": [
    {
     "data": {
      "text/html": [
       "<div>\n",
       "<style scoped>\n",
       "    .dataframe tbody tr th:only-of-type {\n",
       "        vertical-align: middle;\n",
       "    }\n",
       "\n",
       "    .dataframe tbody tr th {\n",
       "        vertical-align: top;\n",
       "    }\n",
       "\n",
       "    .dataframe thead th {\n",
       "        text-align: right;\n",
       "    }\n",
       "</style>\n",
       "<table border=\"1\" class=\"dataframe\">\n",
       "  <thead>\n",
       "    <tr style=\"text-align: right;\">\n",
       "      <th></th>\n",
       "      <th>predicted_Cyclelength</th>\n",
       "    </tr>\n",
       "  </thead>\n",
       "  <tbody>\n",
       "    <tr>\n",
       "      <th>32</th>\n",
       "      <td>28.779987</td>\n",
       "    </tr>\n",
       "    <tr>\n",
       "      <th>33</th>\n",
       "      <td>29.142291</td>\n",
       "    </tr>\n",
       "    <tr>\n",
       "      <th>34</th>\n",
       "      <td>28.907609</td>\n",
       "    </tr>\n",
       "    <tr>\n",
       "      <th>35</th>\n",
       "      <td>28.074088</td>\n",
       "    </tr>\n",
       "    <tr>\n",
       "      <th>36</th>\n",
       "      <td>28.779987</td>\n",
       "    </tr>\n",
       "    <tr>\n",
       "      <th>37</th>\n",
       "      <td>29.142291</td>\n",
       "    </tr>\n",
       "    <tr>\n",
       "      <th>38</th>\n",
       "      <td>28.907609</td>\n",
       "    </tr>\n",
       "    <tr>\n",
       "      <th>39</th>\n",
       "      <td>28.074088</td>\n",
       "    </tr>\n",
       "    <tr>\n",
       "      <th>40</th>\n",
       "      <td>28.779987</td>\n",
       "    </tr>\n",
       "    <tr>\n",
       "      <th>41</th>\n",
       "      <td>29.142291</td>\n",
       "    </tr>\n",
       "    <tr>\n",
       "      <th>42</th>\n",
       "      <td>28.907609</td>\n",
       "    </tr>\n",
       "  </tbody>\n",
       "</table>\n",
       "</div>"
      ],
      "text/plain": [
       "    predicted_Cyclelength\n",
       "32              28.779987\n",
       "33              29.142291\n",
       "34              28.907609\n",
       "35              28.074088\n",
       "36              28.779987\n",
       "37              29.142291\n",
       "38              28.907609\n",
       "39              28.074088\n",
       "40              28.779987\n",
       "41              29.142291\n",
       "42              28.907609"
      ]
     },
     "execution_count": 10,
     "metadata": {},
     "output_type": "execute_result"
    }
   ],
   "source": [
    "\n",
    "prediction = pd.DataFrame(arima_model.predict(n_periods = 100),index=X_test.index)\n",
    "prediction.columns = ['predicted_Cyclelength']\n",
    "prediction"
   ]
  },
  {
   "cell_type": "code",
   "execution_count": 12,
   "id": "174a31dd",
   "metadata": {},
   "outputs": [],
   "source": [
    "X_full = pd.concat([X_train, X_test])\n",
    "arima_model.fit(X_full)\n",
    "future_predictions = arima_model.predict(n_periods=10)\n",
    "\n",
    "future_predictions_df = pd.DataFrame(future_predictions, index=pd.date_range(start=X_test.index[-1], periods=10, freq='D'))\n",
    "future_predictions_df.columns = ['predicted_Cyclelength']\n",
    "\n"
   ]
  },
  {
   "cell_type": "code",
   "execution_count": null,
   "id": "117a9914",
   "metadata": {},
   "outputs": [],
   "source": []
  }
 ],
 "metadata": {
  "kernelspec": {
   "display_name": "Python 3 (ipykernel)",
   "language": "python",
   "name": "python3"
  },
  "language_info": {
   "codemirror_mode": {
    "name": "ipython",
    "version": 3
   },
   "file_extension": ".py",
   "mimetype": "text/x-python",
   "name": "python",
   "nbconvert_exporter": "python",
   "pygments_lexer": "ipython3",
   "version": "3.11.1"
  }
 },
 "nbformat": 4,
 "nbformat_minor": 5
}
