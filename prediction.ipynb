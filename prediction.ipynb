{
 "cells": [
  {
   "cell_type": "code",
   "execution_count": 26,
   "id": "a3a01ede-5267-46ce-92c2-0ac6d1f27d6d",
   "metadata": {},
   "outputs": [],
   "source": [
    "import numpy as np\n",
    "import pandas as pd\n",
    "import matplotlib.pyplot as plt   \n",
    "%matplotlib inline "
   ]
  },
  {
   "cell_type": "code",
   "execution_count": 27,
   "id": "c3171d2b-b195-4b5f-85f2-51b750519daf",
   "metadata": {},
   "outputs": [],
   "source": [
    "df=pd.read_csv(\"FedCycleData071012-2.csv\", usecols=['CycleNumber','LengthofCycle'],nrows=40)"
   ]
  },
  {
   "cell_type": "code",
   "execution_count": 28,
   "id": "63c6abc9-2f5e-4823-8946-9d7b9bebc675",
   "metadata": {},
   "outputs": [
    {
     "name": "stdout",
     "output_type": "stream",
     "text": [
      "    CycleNumber  LengthofCycle\n",
      "0             1             29\n",
      "1             2             27\n",
      "2             3             29\n",
      "3             4             27\n",
      "4             5             28\n",
      "5             6             26\n",
      "6             7             29\n",
      "7             8             24\n",
      "8             9             28\n",
      "9            10             28\n",
      "10           11             26\n",
      "11           12             29\n",
      "12           13             27\n",
      "13           14             28\n",
      "14           15             30\n",
      "15           16             28\n",
      "16           17             26\n",
      "17           18             26\n",
      "18           19             24\n",
      "19           20             27\n",
      "20           21             28\n",
      "21           22             26\n",
      "22           23             27\n",
      "23           24             27\n",
      "24           25             25\n",
      "25           26             32\n",
      "26           27             27\n",
      "27           28             29\n",
      "28           29             26\n",
      "29           30             27\n",
      "30           31             28\n",
      "31           32             31\n",
      "32           33             27\n",
      "33           34             27\n",
      "34           35             28\n",
      "35           36             27\n",
      "36           37             26\n",
      "37           38             28\n",
      "38           39             28\n",
      "39           40             24\n"
     ]
    }
   ],
   "source": [
    "print(df)"
   ]
  },
  {
   "cell_type": "code",
   "execution_count": 29,
   "id": "732830fd-7bc9-4782-8bc7-e6d254b640cf",
   "metadata": {},
   "outputs": [],
   "source": [
    "df.columns=[\"Month\",\"Cyclelength\"]"
   ]
  },
  {
   "cell_type": "code",
   "execution_count": 30,
   "id": "a9ab4182-1b86-44c6-8f45-61860f195649",
   "metadata": {},
   "outputs": [
    {
     "data": {
      "text/html": [
       "<div>\n",
       "<style scoped>\n",
       "    .dataframe tbody tr th:only-of-type {\n",
       "        vertical-align: middle;\n",
       "    }\n",
       "\n",
       "    .dataframe tbody tr th {\n",
       "        vertical-align: top;\n",
       "    }\n",
       "\n",
       "    .dataframe thead th {\n",
       "        text-align: right;\n",
       "    }\n",
       "</style>\n",
       "<table border=\"1\" class=\"dataframe\">\n",
       "  <thead>\n",
       "    <tr style=\"text-align: right;\">\n",
       "      <th></th>\n",
       "      <th>Month</th>\n",
       "      <th>Cyclelength</th>\n",
       "    </tr>\n",
       "  </thead>\n",
       "  <tbody>\n",
       "    <tr>\n",
       "      <th>0</th>\n",
       "      <td>1</td>\n",
       "      <td>29</td>\n",
       "    </tr>\n",
       "    <tr>\n",
       "      <th>1</th>\n",
       "      <td>2</td>\n",
       "      <td>27</td>\n",
       "    </tr>\n",
       "    <tr>\n",
       "      <th>2</th>\n",
       "      <td>3</td>\n",
       "      <td>29</td>\n",
       "    </tr>\n",
       "    <tr>\n",
       "      <th>3</th>\n",
       "      <td>4</td>\n",
       "      <td>27</td>\n",
       "    </tr>\n",
       "    <tr>\n",
       "      <th>4</th>\n",
       "      <td>5</td>\n",
       "      <td>28</td>\n",
       "    </tr>\n",
       "  </tbody>\n",
       "</table>\n",
       "</div>"
      ],
      "text/plain": [
       "   Month  Cyclelength\n",
       "0      1           29\n",
       "1      2           27\n",
       "2      3           29\n",
       "3      4           27\n",
       "4      5           28"
      ]
     },
     "execution_count": 30,
     "metadata": {},
     "output_type": "execute_result"
    }
   ],
   "source": [
    "df.head()"
   ]
  },
  {
   "cell_type": "code",
   "execution_count": 31,
   "id": "8abecf72-b544-4c67-90bf-7b7f0994ae75",
   "metadata": {},
   "outputs": [],
   "source": [
    "df.set_index('Month',inplace=True)"
   ]
  },
  {
   "cell_type": "code",
   "execution_count": 32,
   "id": "ddd86b2d-bc17-4a06-9bc0-d0e1ed6af451",
   "metadata": {},
   "outputs": [
    {
     "data": {
      "text/html": [
       "<div>\n",
       "<style scoped>\n",
       "    .dataframe tbody tr th:only-of-type {\n",
       "        vertical-align: middle;\n",
       "    }\n",
       "\n",
       "    .dataframe tbody tr th {\n",
       "        vertical-align: top;\n",
       "    }\n",
       "\n",
       "    .dataframe thead th {\n",
       "        text-align: right;\n",
       "    }\n",
       "</style>\n",
       "<table border=\"1\" class=\"dataframe\">\n",
       "  <thead>\n",
       "    <tr style=\"text-align: right;\">\n",
       "      <th></th>\n",
       "      <th>Cyclelength</th>\n",
       "    </tr>\n",
       "    <tr>\n",
       "      <th>Month</th>\n",
       "      <th></th>\n",
       "    </tr>\n",
       "  </thead>\n",
       "  <tbody>\n",
       "    <tr>\n",
       "      <th>1</th>\n",
       "      <td>29</td>\n",
       "    </tr>\n",
       "    <tr>\n",
       "      <th>2</th>\n",
       "      <td>27</td>\n",
       "    </tr>\n",
       "    <tr>\n",
       "      <th>3</th>\n",
       "      <td>29</td>\n",
       "    </tr>\n",
       "    <tr>\n",
       "      <th>4</th>\n",
       "      <td>27</td>\n",
       "    </tr>\n",
       "    <tr>\n",
       "      <th>5</th>\n",
       "      <td>28</td>\n",
       "    </tr>\n",
       "  </tbody>\n",
       "</table>\n",
       "</div>"
      ],
      "text/plain": [
       "       Cyclelength\n",
       "Month             \n",
       "1               29\n",
       "2               27\n",
       "3               29\n",
       "4               27\n",
       "5               28"
      ]
     },
     "execution_count": 32,
     "metadata": {},
     "output_type": "execute_result"
    }
   ],
   "source": [
    "df.head()"
   ]
  },
  {
   "cell_type": "code",
   "execution_count": 33,
   "id": "7e14b1e2-2347-4ca6-b7b6-f96c0741239f",
   "metadata": {},
   "outputs": [
    {
     "data": {
      "text/html": [
       "<div>\n",
       "<style scoped>\n",
       "    .dataframe tbody tr th:only-of-type {\n",
       "        vertical-align: middle;\n",
       "    }\n",
       "\n",
       "    .dataframe tbody tr th {\n",
       "        vertical-align: top;\n",
       "    }\n",
       "\n",
       "    .dataframe thead th {\n",
       "        text-align: right;\n",
       "    }\n",
       "</style>\n",
       "<table border=\"1\" class=\"dataframe\">\n",
       "  <thead>\n",
       "    <tr style=\"text-align: right;\">\n",
       "      <th></th>\n",
       "      <th>Cyclelength</th>\n",
       "    </tr>\n",
       "  </thead>\n",
       "  <tbody>\n",
       "    <tr>\n",
       "      <th>count</th>\n",
       "      <td>40.000000</td>\n",
       "    </tr>\n",
       "    <tr>\n",
       "      <th>mean</th>\n",
       "      <td>27.350000</td>\n",
       "    </tr>\n",
       "    <tr>\n",
       "      <th>std</th>\n",
       "      <td>1.702939</td>\n",
       "    </tr>\n",
       "    <tr>\n",
       "      <th>min</th>\n",
       "      <td>24.000000</td>\n",
       "    </tr>\n",
       "    <tr>\n",
       "      <th>25%</th>\n",
       "      <td>26.000000</td>\n",
       "    </tr>\n",
       "    <tr>\n",
       "      <th>50%</th>\n",
       "      <td>27.000000</td>\n",
       "    </tr>\n",
       "    <tr>\n",
       "      <th>75%</th>\n",
       "      <td>28.000000</td>\n",
       "    </tr>\n",
       "    <tr>\n",
       "      <th>max</th>\n",
       "      <td>32.000000</td>\n",
       "    </tr>\n",
       "  </tbody>\n",
       "</table>\n",
       "</div>"
      ],
      "text/plain": [
       "       Cyclelength\n",
       "count    40.000000\n",
       "mean     27.350000\n",
       "std       1.702939\n",
       "min      24.000000\n",
       "25%      26.000000\n",
       "50%      27.000000\n",
       "75%      28.000000\n",
       "max      32.000000"
      ]
     },
     "execution_count": 33,
     "metadata": {},
     "output_type": "execute_result"
    }
   ],
   "source": [
    "df.describe()\n"
   ]
  },
  {
   "cell_type": "code",
   "execution_count": 34,
   "id": "923aa90c-be7a-4cee-8fb0-5512e43a9c8f",
   "metadata": {},
   "outputs": [
    {
     "data": {
      "text/plain": [
       "<AxesSubplot:xlabel='Month'>"
      ]
     },
     "execution_count": 34,
     "metadata": {},
     "output_type": "execute_result"
    },
    {
     "data": {
      "image/png": "[encoded data removed]",
      "text/plain": [
       "<Figure size 640x480 with 1 Axes>"
      ]
     },
     "metadata": {},
     "output_type": "display_data"
    }
   ],
   "source": [
    "df.plot()\n"
   ]
  },
  {
   "cell_type": "code",
   "execution_count": 35,
   "id": "015a6898-55d8-4ee9-ab49-17be774af501",
   "metadata": {},
   "outputs": [],
   "source": [
    "# checking the data is stationarity\n",
    "from statsmodels.tsa.stattools import adfuller"
   ]
  },
  {
   "cell_type": "code",
   "execution_count": 36,
   "id": "ea1349c4-0809-4f18-aeaf-f315d0d20e49",
   "metadata": {},
   "outputs": [],
   "source": [
    "# test_result=adfuller(df['Cyclelength'])"
   ]
  },
  {
   "cell_type": "code",
   "execution_count": 37,
   "id": "f0db00da-6ce2-453d-b95a-1ff691b89b21",
   "metadata": {},
   "outputs": [],
   "source": [
    "# #Ho: It is non stationary\n",
    "# #H1: It is stationary\n",
    "\n",
    "# def adfuller_test(Cyclelength):\n",
    "#     result=adfuller(Cyclelength)\n",
    "#     labels = ['ADF Test Statistic','p-value','#Lags Used','Number of Observations Used']\n",
    "#     for value,label in zip(result,labels):\n",
    "#         print(label+' : '+str(value) )\n",
    "#     if result[1] <= 0.05:\n",
    "#         print(\"strong evidence against the null hypothesis(Ho), reject the null hypothesis. Data has no unit root and is stationary\")\n",
    "#     else:\n",
    "#         print(\"weak evidence against null hypothesis, time series has a unit root, indicating it is non-stationary \")"
   ]
  },
  {
   "cell_type": "code",
   "execution_count": 38,
   "id": "1b24ddc3-58fa-4327-a68b-7591a026030c",
   "metadata": {},
   "outputs": [],
   "source": [
    "# adfuller_test(df['Cyclelength'])"
   ]
  },
  {
   "cell_type": "code",
   "execution_count": 39,
   "id": "070aca3f-6056-4757-9acf-d3527981d492",
   "metadata": {},
   "outputs": [],
   "source": [
    "from statsmodels.tsa.arima_model import ARIMA"
   ]
  },
  {
   "cell_type": "code",
   "execution_count": 40,
   "id": "01747416-e4ba-4fec-88cb-f23e33bda563",
   "metadata": {},
   "outputs": [],
   "source": [
    "# Create a new column with the differences between consecutive data points\n",
    "# df['Cyclelength Diff'] = df['Cyclelength'].diff()"
   ]
  },
  {
   "cell_type": "code",
   "execution_count": 41,
   "id": "58c97ab0-fdd1-47dc-868c-10f915b7cf7d",
   "metadata": {},
   "outputs": [],
   "source": [
    "def check_stationary (timeseries):\n",
    "    result=adfuller(timeseries)\n",
    "    p_value=result[1]\n",
    "    return p_value"
   ]
  },
  {
   "cell_type": "code",
   "execution_count": 47,
   "id": "77d04c98-d38c-4297-853d-6db16a240a93",
   "metadata": {},
   "outputs": [],
   "source": [
    "df['diff']=df['Cyclelength']"
   ]
  },
  {
   "cell_type": "code",
   "execution_count": 48,
   "id": "4663820e-06d7-40f2-b8fe-44620bd44640",
   "metadata": {},
   "outputs": [],
   "source": [
    "p_value=check_stationary(df['Cyclelength'])"
   ]
  },
  {
   "cell_type": "code",
   "execution_count": 52,
   "id": "a810f388-59ae-4595-a91a-82ae4e4873f0",
   "metadata": {},
   "outputs": [],
   "source": [
    "d=0"
   ]
  },
  {
   "cell_type": "code",
   "execution_count": 54,
   "id": "85d89539-187e-42d2-b796-69b35d0ddba8",
   "metadata": {},
   "outputs": [],
   "source": [
    "while p_value >0.05:\n",
    "    df['diff'] =df['Cyclelength']-df['Cyclelength'].shift(1)\n",
    "    df=df.dropna()\n",
    "    p_value=check_stationary(df['diff'])\n",
    "    d=d+1"
   ]
  },
  {
   "cell_type": "code",
   "execution_count": 50,
   "id": "c90cb69d-1424-4b6e-97c1-f7b8e06407f5",
   "metadata": {},
   "outputs": [
    {
     "name": "stdout",
     "output_type": "stream",
     "text": [
      "data is stationary after transformation ,p-value 1.5340595508116815e-10\n"
     ]
    }
   ],
   "source": [
    "print(\"data is stationary after transformation ,p-value\",p_value)"
   ]
  },
  {
   "cell_type": "code",
   "execution_count": 56,
   "id": "c88d6c98-ed88-42f7-a0d0-b8fc83a4f7cf",
   "metadata": {},
   "outputs": [
    {
     "data": {
      "text/plain": [
       "<AxesSubplot:xlabel='Month'>"
      ]
     },
     "execution_count": 56,
     "metadata": {},
     "output_type": "execute_result"
    },
    {
     "data": {
      "image/png": "[encoded data removed]",
      "text/plain": [
       "<Figure size 640x480 with 1 Axes>"
      ]
     },
     "metadata": {},
     "output_type": "display_data"
    }
   ],
   "source": [
    "df['diff'].plot()"
   ]
  },
  {
   "cell_type": "code",
   "execution_count": 58,
   "id": "2f9de4ef-18b6-45aa-9815-67b758ca1b80",
   "metadata": {},
   "outputs": [],
   "source": [
    "import random\n",
    "#for random search method"
   ]
  },
  {
   "cell_type": "code",
   "execution_count": 65,
   "id": "02abaa35-c955-4448-a42d-97f9bd2d017a",
   "metadata": {},
   "outputs": [],
   "source": [
    "#vayena\n",
    "\n",
    "def find_optimal_arima(data):\n",
    "    best_aic = float(\"inf\")\n",
    "    best_pdq = None\n",
    "    best_model = None\n",
    "    for i in range(50):\n",
    "        p = random.randint(0,5)\n",
    "        q = random.randint(0,5)\n",
    "        try:\n",
    "            model = ARIMA(data, order=(p, 0, q))\n",
    "            results = model.fit(disp=0)\n",
    "            if results.aic < best_aic:\n",
    "                best_aic = results.aic\n",
    "                best_pdq = (p, 0, q)\n",
    "                best_model = results\n",
    "        except:\n",
    "            continue\n",
    "    print('Best ARIMA model: ARIMA{} - AIC:{}'.format(best_pdq, best_aic))\n",
    "    return best_pdq, best_model\n"
   ]
  },
  {
   "cell_type": "code",
   "execution_count": 66,
   "id": "58177b43-9bda-40aa-ab86-c1ce8750ed92",
   "metadata": {},
   "outputs": [],
   "source": [
    "data=df['diff']"
   ]
  },
  {
   "cell_type": "code",
   "execution_count": 67,
   "id": "eef5f0a7-8601-4149-818d-96bef9f5f30f",
   "metadata": {},
   "outputs": [
    {
     "name": "stdout",
     "output_type": "stream",
     "text": [
      "Best ARIMA model: ARIMANone - AIC:inf\n"
     ]
    }
   ],
   "source": [
    "best_pdq,best_model=find_optimal_arima(data)"
   ]
  },
  {
   "cell_type": "code",
   "execution_count": 69,
   "id": "5aaa2cb2-4b81-4d38-bf7a-7f30198b00e9",
   "metadata": {},
   "outputs": [
    {
     "name": "stdout",
     "output_type": "stream",
     "text": [
      "None\n"
     ]
    }
   ],
   "source": [
    "print(best_pdq)\n"
   ]
  },
  {
   "cell_type": "code",
   "execution_count": null,
   "id": "82eca918-e5c4-49e4-b93c-d693139fb54a",
   "metadata": {},
   "outputs": [],
   "source": []
  }
 ],
 "metadata": {
  "kernelspec": {
   "display_name": "Python 3 (ipykernel)",
   "language": "python",
   "name": "python3"
  },
  "language_info": {
   "codemirror_mode": {
    "name": "ipython",
    "version": 3
   },
   "file_extension": ".py",
   "mimetype": "text/x-python",
   "name": "python",
   "nbconvert_exporter": "python",
   "pygments_lexer": "ipython3",
   "version": "3.9.13"
  }
 },
 "nbformat": 4,
 "nbformat_minor": 5
}
